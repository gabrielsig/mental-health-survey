{
 "cells": [
  {
   "cell_type": "markdown",
   "metadata": {},
   "source": [
    "### Contents\n",
    "\n",
    "- **Timestamp:** The time in which the interview was conducted\n",
    "- **Age:** Age of the participant\n",
    "- **Gender:** Gender of the participant\n",
    "- **Country:** Country in which the participant lives\n",
    "- **state:** If you live in the United States, which state or territory do you live in?\n",
    "- **self_employed:** Are you self-employed?\n",
    "- **family_history:** Do you have a family history of mental illness?\n",
    "- **treatment:** Have you sought treatment for a mental health condition?\n",
    "- **work_interfere:** If you have a mental health condition, do you feel that it interferes with your work?\n",
    "- **no_employees:** How many employees does your company or organization have?\n",
    "- **remote_work:** Do you work remotely (outside of an office) at least 50% of the time?\n",
    "- **tech_company:** Is your employer primarily a tech company/organization?\n",
    "- **benefits:** Does your employer provide mental health benefits?\n",
    "- **care_options:** Do you know the options for mental health care your employer provides?\n",
    "- **wellness_program:** Has your employer ever discussed mental health as part of an employee wellness program?\n",
    "- **seek_help:** Does your employer provide resources to learn more about mental health issues and how to seek help?\n",
    "- **anonymity:** Is your anonymity protected if you choose to take advantage of mental health or substance abuse   treatment resources?\n",
    "- **leave:** How easy is it for you to take medical leave for a mental health condition?\n",
    "- **mental_health_consequence:** Do you think that discussing a mental health issue with your employer would have negative consequences?\n",
    "- **phys_health_consequence:** Do you think that discussing a physical health issue with your employer would have negative consequences?\n",
    "- **coworkers:** Would you be willing to discuss a mental health issue with your coworkers?\n",
    "- **supervisor:** Would you be willing to discuss a mental health issue with your direct supervisor(s)?\n",
    "- **mental_health_interview:** Would you bring up a mental health issue with a potential employer in an interview?\n",
    "- **phys_health_interview:** Would you bring up a physical health issue with a potential employer in an interview?\n",
    "- **mental_vs_physical:** Do you feel that your employer takes mental health as seriously as physical health?\n",
    "- **obs_consequence:** Have you heard of or observed negative consequences for coworkers with mental health conditions in your workplace?\n",
    "- **comments:** Any additional notes or comments"
   ]
  },
  {
   "cell_type": "code",
   "execution_count": 1,
   "metadata": {},
   "outputs": [
    {
     "data": {
      "text/html": [
       "<script>requirejs.config({paths: { 'plotly': ['https://cdn.plot.ly/plotly-latest.min']},});if(!window.Plotly) {{require(['plotly'],function(plotly) {window.Plotly=plotly;});}}</script>"
      ],
      "text/vnd.plotly.v1+html": [
       "<script>requirejs.config({paths: { 'plotly': ['https://cdn.plot.ly/plotly-latest.min']},});if(!window.Plotly) {{require(['plotly'],function(plotly) {window.Plotly=plotly;});}}</script>"
      ]
     },
     "metadata": {},
     "output_type": "display_data"
    }
   ],
   "source": [
    "import numpy as np\n",
    "import pandas as pd\n",
    "import matplotlib.pyplot as plt\n",
    "import seaborn as sns\n",
    "\n",
    "import plotly.plotly as py\n",
    "from plotly.offline import download_plotlyjs,init_notebook_mode,plot, iplot\n",
    "import plotly.graph_objs as go\n",
    "\n",
    "init_notebook_mode(connected=True)\n",
    "sns.set(style=\"darkgrid\",palette=\"muted\")\n",
    "%matplotlib inline"
   ]
  },
  {
   "cell_type": "code",
   "execution_count": 2,
   "metadata": {
    "scrolled": true
   },
   "outputs": [
    {
     "data": {
      "text/html": [
       "<div>\n",
       "<style>\n",
       "    .dataframe thead tr:only-child th {\n",
       "        text-align: right;\n",
       "    }\n",
       "\n",
       "    .dataframe thead th {\n",
       "        text-align: left;\n",
       "    }\n",
       "\n",
       "    .dataframe tbody tr th {\n",
       "        vertical-align: top;\n",
       "    }\n",
       "</style>\n",
       "<table border=\"1\" class=\"dataframe\">\n",
       "  <thead>\n",
       "    <tr style=\"text-align: right;\">\n",
       "      <th></th>\n",
       "      <th>Timestamp</th>\n",
       "      <th>Age</th>\n",
       "      <th>Gender</th>\n",
       "      <th>Country</th>\n",
       "      <th>state</th>\n",
       "      <th>self_employed</th>\n",
       "      <th>family_history</th>\n",
       "      <th>treatment</th>\n",
       "      <th>work_interfere</th>\n",
       "      <th>no_employees</th>\n",
       "      <th>...</th>\n",
       "      <th>leave</th>\n",
       "      <th>mental_health_consequence</th>\n",
       "      <th>phys_health_consequence</th>\n",
       "      <th>coworkers</th>\n",
       "      <th>supervisor</th>\n",
       "      <th>mental_health_interview</th>\n",
       "      <th>phys_health_interview</th>\n",
       "      <th>mental_vs_physical</th>\n",
       "      <th>obs_consequence</th>\n",
       "      <th>comments</th>\n",
       "    </tr>\n",
       "  </thead>\n",
       "  <tbody>\n",
       "    <tr>\n",
       "      <th>0</th>\n",
       "      <td>2014-08-27 11:29:31</td>\n",
       "      <td>37</td>\n",
       "      <td>Female</td>\n",
       "      <td>United States</td>\n",
       "      <td>IL</td>\n",
       "      <td>NaN</td>\n",
       "      <td>No</td>\n",
       "      <td>Yes</td>\n",
       "      <td>Often</td>\n",
       "      <td>6-25</td>\n",
       "      <td>...</td>\n",
       "      <td>Somewhat easy</td>\n",
       "      <td>No</td>\n",
       "      <td>No</td>\n",
       "      <td>Some of them</td>\n",
       "      <td>Yes</td>\n",
       "      <td>No</td>\n",
       "      <td>Maybe</td>\n",
       "      <td>Yes</td>\n",
       "      <td>No</td>\n",
       "      <td>NaN</td>\n",
       "    </tr>\n",
       "    <tr>\n",
       "      <th>1</th>\n",
       "      <td>2014-08-27 11:29:37</td>\n",
       "      <td>44</td>\n",
       "      <td>M</td>\n",
       "      <td>United States</td>\n",
       "      <td>IN</td>\n",
       "      <td>NaN</td>\n",
       "      <td>No</td>\n",
       "      <td>No</td>\n",
       "      <td>Rarely</td>\n",
       "      <td>More than 1000</td>\n",
       "      <td>...</td>\n",
       "      <td>Don't know</td>\n",
       "      <td>Maybe</td>\n",
       "      <td>No</td>\n",
       "      <td>No</td>\n",
       "      <td>No</td>\n",
       "      <td>No</td>\n",
       "      <td>No</td>\n",
       "      <td>Don't know</td>\n",
       "      <td>No</td>\n",
       "      <td>NaN</td>\n",
       "    </tr>\n",
       "    <tr>\n",
       "      <th>2</th>\n",
       "      <td>2014-08-27 11:29:44</td>\n",
       "      <td>32</td>\n",
       "      <td>Male</td>\n",
       "      <td>Canada</td>\n",
       "      <td>NaN</td>\n",
       "      <td>NaN</td>\n",
       "      <td>No</td>\n",
       "      <td>No</td>\n",
       "      <td>Rarely</td>\n",
       "      <td>6-25</td>\n",
       "      <td>...</td>\n",
       "      <td>Somewhat difficult</td>\n",
       "      <td>No</td>\n",
       "      <td>No</td>\n",
       "      <td>Yes</td>\n",
       "      <td>Yes</td>\n",
       "      <td>Yes</td>\n",
       "      <td>Yes</td>\n",
       "      <td>No</td>\n",
       "      <td>No</td>\n",
       "      <td>NaN</td>\n",
       "    </tr>\n",
       "    <tr>\n",
       "      <th>3</th>\n",
       "      <td>2014-08-27 11:29:46</td>\n",
       "      <td>31</td>\n",
       "      <td>Male</td>\n",
       "      <td>United Kingdom</td>\n",
       "      <td>NaN</td>\n",
       "      <td>NaN</td>\n",
       "      <td>Yes</td>\n",
       "      <td>Yes</td>\n",
       "      <td>Often</td>\n",
       "      <td>26-100</td>\n",
       "      <td>...</td>\n",
       "      <td>Somewhat difficult</td>\n",
       "      <td>Yes</td>\n",
       "      <td>Yes</td>\n",
       "      <td>Some of them</td>\n",
       "      <td>No</td>\n",
       "      <td>Maybe</td>\n",
       "      <td>Maybe</td>\n",
       "      <td>No</td>\n",
       "      <td>Yes</td>\n",
       "      <td>NaN</td>\n",
       "    </tr>\n",
       "    <tr>\n",
       "      <th>4</th>\n",
       "      <td>2014-08-27 11:30:22</td>\n",
       "      <td>31</td>\n",
       "      <td>Male</td>\n",
       "      <td>United States</td>\n",
       "      <td>TX</td>\n",
       "      <td>NaN</td>\n",
       "      <td>No</td>\n",
       "      <td>No</td>\n",
       "      <td>Never</td>\n",
       "      <td>100-500</td>\n",
       "      <td>...</td>\n",
       "      <td>Don't know</td>\n",
       "      <td>No</td>\n",
       "      <td>No</td>\n",
       "      <td>Some of them</td>\n",
       "      <td>Yes</td>\n",
       "      <td>Yes</td>\n",
       "      <td>Yes</td>\n",
       "      <td>Don't know</td>\n",
       "      <td>No</td>\n",
       "      <td>NaN</td>\n",
       "    </tr>\n",
       "  </tbody>\n",
       "</table>\n",
       "<p>5 rows × 27 columns</p>\n",
       "</div>"
      ],
      "text/plain": [
       "             Timestamp  Age  Gender         Country state self_employed  \\\n",
       "0  2014-08-27 11:29:31   37  Female   United States    IL           NaN   \n",
       "1  2014-08-27 11:29:37   44       M   United States    IN           NaN   \n",
       "2  2014-08-27 11:29:44   32    Male          Canada   NaN           NaN   \n",
       "3  2014-08-27 11:29:46   31    Male  United Kingdom   NaN           NaN   \n",
       "4  2014-08-27 11:30:22   31    Male   United States    TX           NaN   \n",
       "\n",
       "  family_history treatment work_interfere    no_employees   ...     \\\n",
       "0             No       Yes          Often            6-25   ...      \n",
       "1             No        No         Rarely  More than 1000   ...      \n",
       "2             No        No         Rarely            6-25   ...      \n",
       "3            Yes       Yes          Often          26-100   ...      \n",
       "4             No        No          Never         100-500   ...      \n",
       "\n",
       "                leave mental_health_consequence phys_health_consequence  \\\n",
       "0       Somewhat easy                        No                      No   \n",
       "1          Don't know                     Maybe                      No   \n",
       "2  Somewhat difficult                        No                      No   \n",
       "3  Somewhat difficult                       Yes                     Yes   \n",
       "4          Don't know                        No                      No   \n",
       "\n",
       "      coworkers supervisor mental_health_interview phys_health_interview  \\\n",
       "0  Some of them        Yes                      No                 Maybe   \n",
       "1            No         No                      No                    No   \n",
       "2           Yes        Yes                     Yes                   Yes   \n",
       "3  Some of them         No                   Maybe                 Maybe   \n",
       "4  Some of them        Yes                     Yes                   Yes   \n",
       "\n",
       "  mental_vs_physical obs_consequence comments  \n",
       "0                Yes              No      NaN  \n",
       "1         Don't know              No      NaN  \n",
       "2                 No              No      NaN  \n",
       "3                 No             Yes      NaN  \n",
       "4         Don't know              No      NaN  \n",
       "\n",
       "[5 rows x 27 columns]"
      ]
     },
     "execution_count": 2,
     "metadata": {},
     "output_type": "execute_result"
    }
   ],
   "source": [
    "survey = pd.read_csv('survey.csv')\n",
    "survey.head()"
   ]
  },
  {
   "cell_type": "code",
   "execution_count": 3,
   "metadata": {},
   "outputs": [
    {
     "data": {
      "text/plain": [
       "<matplotlib.axes._subplots.AxesSubplot at 0x7f9ae72972e8>"
      ]
     },
     "execution_count": 3,
     "metadata": {},
     "output_type": "execute_result"
    },
    {
     "data": {
      "image/png": "[encoded data removed]",
      "text/plain": [
       "<matplotlib.figure.Figure at 0x7f9ae7297c18>"
      ]
     },
     "metadata": {},
     "output_type": "display_data"
    }
   ],
   "source": [
    "# check for NaN values\n",
    "sns.heatmap(survey.isnull(),yticklabels=False,cbar=False,cmap='viridis')"
   ]
  },
  {
   "cell_type": "code",
   "execution_count": 4,
   "metadata": {
    "collapsed": true
   },
   "outputs": [],
   "source": [
    "# drop the comments column,we don't have much use for it and it has a bunch of NaN values\n",
    "survey.drop('comments', axis=1,inplace=True)"
   ]
  },
  {
   "cell_type": "code",
   "execution_count": 5,
   "metadata": {
    "collapsed": true
   },
   "outputs": [],
   "source": [
    "# also drop the timestamp and state columns, we don't have much use for the first and the second has too many NaN\n",
    "# values to be any useful\n",
    "survey.drop(['Timestamp','state'], axis=1,inplace=True)"
   ]
  },
  {
   "cell_type": "code",
   "execution_count": 6,
   "metadata": {},
   "outputs": [
    {
     "data": {
      "text/plain": [
       "<matplotlib.axes._subplots.AxesSubplot at 0x7f9ae6dd14a8>"
      ]
     },
     "execution_count": 6,
     "metadata": {},
     "output_type": "execute_result"
    },
    {
     "data": {
      "image/png": "[encoded data removed]",
      "text/plain": [
       "<matplotlib.figure.Figure at 0x7f9ae7194c18>"
      ]
     },
     "metadata": {},
     "output_type": "display_data"
    }
   ],
   "source": [
    "# now lets take a look at the work interfere column.I tells us if the person thinks that his/hers mental health has \n",
    "# any impact on the work\n",
    "sns.countplot(survey['work_interfere'])"
   ]
  },
  {
   "cell_type": "code",
   "execution_count": 7,
   "metadata": {
    "collapsed": true
   },
   "outputs": [],
   "source": [
    "# we have lots o missing data, and most of the people that answer said 'sometimes'.\n",
    "# that's not very useful right now, so let's drop the column (we might revisit this later)\n",
    "survey.drop('work_interfere', axis=1,inplace=True)"
   ]
  },
  {
   "cell_type": "code",
   "execution_count": 8,
   "metadata": {},
   "outputs": [
    {
     "data": {
      "text/plain": [
       "<matplotlib.axes._subplots.AxesSubplot at 0x7f9ae6d446a0>"
      ]
     },
     "execution_count": 8,
     "metadata": {},
     "output_type": "execute_result"
    },
    {
     "data": {
      "image/png": "[encoded data removed]",
      "text/plain": [
       "<matplotlib.figure.Figure at 0x7f9ae6d55160>"
      ]
     },
     "metadata": {},
     "output_type": "display_data"
    }
   ],
   "source": [
    "#lets take another look at the data\n",
    "sns.heatmap(survey.isnull(),yticklabels=False,cbar=False,cmap='viridis')"
   ]
  },
  {
   "cell_type": "code",
   "execution_count": 9,
   "metadata": {
    "collapsed": true
   },
   "outputs": [],
   "source": [
    "# self employed has some missing values, but we can just drop those rows\n",
    "survey.dropna(inplace=True)"
   ]
  },
  {
   "cell_type": "code",
   "execution_count": 10,
   "metadata": {},
   "outputs": [
    {
     "data": {
      "text/plain": [
       "<matplotlib.axes._subplots.AxesSubplot at 0x7f9ae6c62ac8>"
      ]
     },
     "execution_count": 10,
     "metadata": {},
     "output_type": "execute_result"
    },
    {
     "data": {
      "image/png": "[encoded data removed]",
      "text/plain": [
       "<matplotlib.figure.Figure at 0x7f9ae7297d30>"
      ]
     },
     "metadata": {},
     "output_type": "display_data"
    }
   ],
   "source": [
    "# last look to see if it's all ok\n",
    "sns.heatmap(survey.isnull(),yticklabels=False,cbar=False,cmap='viridis')"
   ]
  },
  {
   "cell_type": "code",
   "execution_count": 11,
   "metadata": {
    "collapsed": true
   },
   "outputs": [],
   "source": [
    "# lets fix the remaining issues\n",
    "survey = survey.reset_index(drop=True)"
   ]
  },
  {
   "cell_type": "code",
   "execution_count": 12,
   "metadata": {},
   "outputs": [
    {
     "name": "stdout",
     "output_type": "stream",
     "text": [
      "number of unique responses to each question: \n",
      "\n",
      "Age :  53\n",
      "Gender :  49\n",
      "Country :  48\n",
      "self_employed :  2\n",
      "family_history :  2\n",
      "treatment :  2\n",
      "no_employees :  6\n",
      "remote_work :  2\n",
      "tech_company :  2\n",
      "benefits :  3\n",
      "care_options :  3\n",
      "wellness_program :  3\n",
      "seek_help :  3\n",
      "anonymity :  3\n",
      "leave :  5\n",
      "mental_health_consequence :  3\n",
      "phys_health_consequence :  3\n",
      "coworkers :  3\n",
      "supervisor :  3\n",
      "mental_health_interview :  3\n",
      "phys_health_interview :  3\n",
      "mental_vs_physical :  3\n",
      "obs_consequence :  2\n"
     ]
    }
   ],
   "source": [
    "print(\"number of unique responses to each question: \\n\")\n",
    "\n",
    "for col in list(survey.columns):\n",
    "    print(col,\": \", survey[col].nunique())"
   ]
  },
  {
   "cell_type": "code",
   "execution_count": 13,
   "metadata": {},
   "outputs": [
    {
     "data": {
      "text/plain": [
       "array(['male', 'Male', 'Female', 'female', 'M', 'm', 'Male-ish', 'maile',\n",
       "       'Trans-female', 'Cis Female', 'F', 'something kinda male?',\n",
       "       'Cis Male', 'Woman', 'f', 'Mal', 'Male (CIS)', 'queer/she/they',\n",
       "       'non-binary', 'Femake', 'woman', 'Make', 'Nah', 'All', 'Enby',\n",
       "       'fluid', 'Genderqueer', 'Female ', 'Androgyne', 'Agender',\n",
       "       'cis-female/femme', 'Guy (-ish) ^_^', 'male leaning androgynous',\n",
       "       'Male ', 'Man', 'Trans woman', 'msle', 'Neuter', 'Female (trans)',\n",
       "       'queer', 'Female (cis)', 'Mail', 'cis male', 'A little about you',\n",
       "       'Malr', 'p', 'femail', 'Cis Man',\n",
       "       'ostensibly male, unsure what that really means'], dtype=object)"
      ]
     },
     "execution_count": 13,
     "metadata": {},
     "output_type": "execute_result"
    }
   ],
   "source": [
    "# we might have a problem in the Gender column, there are 48 unique responses\n",
    "survey['Gender'].unique()"
   ]
  },
  {
   "cell_type": "code",
   "execution_count": 14,
   "metadata": {
    "collapsed": true
   },
   "outputs": [],
   "source": [
    "# well....fuck\n",
    "# let's clean it the best we can\n",
    "def gender_identifier(string):\n",
    "    male_strings = ['male', 'Male', 'M', 'm', 'maile','Cis Male', 'Mal', 'Male (CIS)',  'Make', \n",
    "                    'Male ', 'Man', 'msle', 'Mail', 'cis male', 'Malr','Cis Man']\n",
    "    female_strings = ['Female', 'female','Cis Female', 'F', 'Woman', 'f', 'Femake', 'woman', \n",
    "                      'Female ', 'cis-female/femme','Female (cis)','femail']\n",
    "    other_strings = ['Trans-female','something kinda male?','queer/she/they','non-binary', 'Nah', \n",
    "                     'All', 'Enby', 'fluid', 'Genderqueer',  'Androgyne', 'Agender', 'Guy (-ish) ^_^', \n",
    "                     'male leaning androgynous', 'Trans woman', 'Neuter', 'Female (trans)','queer',   \n",
    "                     'A little about you','p', 'ostensibly male, unsure what that really means', 'Male-ish']\n",
    "    \n",
    "    if string in male_strings:\n",
    "        return 'male'\n",
    "    elif string in female_strings:\n",
    "        return 'female'\n",
    "    elif string in other_strings:\n",
    "        return 'other/non-binary/trans'\n",
    "    \n",
    "survey['Gender'] = survey['Gender'].apply(gender_identifier)"
   ]
  },
  {
   "cell_type": "code",
   "execution_count": 15,
   "metadata": {},
   "outputs": [
    {
     "data": {
      "text/plain": [
       "<matplotlib.axes._subplots.AxesSubplot at 0x7f9ae6b993c8>"
      ]
     },
     "execution_count": 15,
     "metadata": {},
     "output_type": "execute_result"
    },
    {
     "data": {
      "image/png": "[encoded data removed]",
      "text/plain": [
       "<matplotlib.figure.Figure at 0x7f9ae6cfff98>"
      ]
     },
     "metadata": {},
     "output_type": "display_data"
    }
   ],
   "source": [
    "sns.countplot(survey['Gender'])"
   ]
  },
  {
   "cell_type": "code",
   "execution_count": 16,
   "metadata": {
    "collapsed": true
   },
   "outputs": [],
   "source": [
    "# last, lets fix the age\n",
    "def fix_age(age):\n",
    "    if (age>100 or age<=0):\n",
    "        return np.nan\n",
    "    return int(age)\n",
    "\n",
    "survey['Age'] = survey['Age'].apply(fix_age)\n"
   ]
  },
  {
   "cell_type": "code",
   "execution_count": 17,
   "metadata": {
    "collapsed": true
   },
   "outputs": [],
   "source": [
    "# fill in the NaN with the mean age\n",
    "def fill_age(age):\n",
    "    if np.isnan(age):\n",
    "        return int(survey['Age'].mean())\n",
    "    return int(age)\n",
    "\n",
    "survey['Age'] = survey['Age'].apply(fill_age)"
   ]
  },
  {
   "cell_type": "code",
   "execution_count": 18,
   "metadata": {},
   "outputs": [
    {
     "data": {
      "text/plain": [
       "array([46, 36, 29, 31, 41, 33, 35, 34, 37, 32, 30, 42, 40, 27, 38, 50, 24,\n",
       "       18, 28, 26, 22, 44, 23, 19, 25, 39, 45, 21, 43, 56, 60, 54, 55, 48,\n",
       "       20, 57, 58, 47, 62, 51, 65, 49,  5, 53, 61,  8, 11, 72])"
      ]
     },
     "execution_count": 18,
     "metadata": {},
     "output_type": "execute_result"
    }
   ],
   "source": [
    "survey['Age'].unique()"
   ]
  },
  {
   "cell_type": "code",
   "execution_count": 19,
   "metadata": {},
   "outputs": [
    {
     "data": {
      "text/plain": [
       "array([ 5,  8, 11])"
      ]
     },
     "execution_count": 19,
     "metadata": {},
     "output_type": "execute_result"
    }
   ],
   "source": [
    "# still some weird values like age lower  than 15\n",
    "survey[survey[\"Age\"]<=15]['Age'].unique()"
   ]
  },
  {
   "cell_type": "code",
   "execution_count": 20,
   "metadata": {
    "collapsed": true
   },
   "outputs": [],
   "source": [
    "survey.drop(survey[survey[\"Age\"]<=15].index, inplace=True)"
   ]
  },
  {
   "cell_type": "markdown",
   "metadata": {},
   "source": [
    "# Exploratory data Analysis and Visualisations"
   ]
  },
  {
   "cell_type": "code",
   "execution_count": null,
   "metadata": {
    "collapsed": true
   },
   "outputs": [],
   "source": []
  },
  {
   "cell_type": "code",
   "execution_count": 21,
   "metadata": {},
   "outputs": [
    {
     "data": {
      "text/plain": [
       "<matplotlib.axes._subplots.AxesSubplot at 0x7f9ae6d335c0>"
      ]
     },
     "execution_count": 21,
     "metadata": {},
     "output_type": "execute_result"
    },
    {
     "data": {
      "image/png": "[encoded data removed]",
      "text/plain": [
       "<matplotlib.figure.Figure at 0x7f9ae6c5d908>"
      ]
     },
     "metadata": {},
     "output_type": "display_data"
    }
   ],
   "source": [
    "# our final goal is to predict wheather or not an employee seek treatment \n",
    "# given his/hers perception of the work enviroment and each factor contribute the most\n",
    "# first lets see how much of our sample did an didn't seek treatment\n",
    "\n",
    "sns.countplot(survey['treatment'])"
   ]
  },
  {
   "cell_type": "code",
   "execution_count": 22,
   "metadata": {},
   "outputs": [
    {
     "data": {
      "text/plain": [
       "<matplotlib.axes._subplots.AxesSubplot at 0x7f9ae6ccb128>"
      ]
     },
     "execution_count": 22,
     "metadata": {},
     "output_type": "execute_result"
    },
    {
     "data": {
      "image/png": "[encoded data removed]",
      "text/plain": [
       "<matplotlib.figure.Figure at 0x7f9ae6bca438>"
      ]
     },
     "metadata": {},
     "output_type": "display_data"
    }
   ],
   "source": [
    "# maybe family history has an impact?\n",
    "sns.countplot(x='treatment', hue='family_history', data=survey)"
   ]
  },
  {
   "cell_type": "code",
   "execution_count": 23,
   "metadata": {},
   "outputs": [
    {
     "data": {
      "text/plain": [
       "<matplotlib.axes._subplots.AxesSubplot at 0x7f9ae6ad8c50>"
      ]
     },
     "execution_count": 23,
     "metadata": {},
     "output_type": "execute_result"
    },
    {
     "data": {
      "image/png": "[encoded data removed]",
      "text/plain": [
       "<matplotlib.figure.Figure at 0x7f9ae6cb2fd0>"
      ]
     },
     "metadata": {},
     "output_type": "display_data"
    }
   ],
   "source": [
    "sns.countplot(x='Gender', hue='treatment', data=survey)"
   ]
  },
  {
   "cell_type": "code",
   "execution_count": 24,
   "metadata": {},
   "outputs": [
    {
     "data": {
      "text/plain": [
       "<matplotlib.axes._subplots.AxesSubplot at 0x7f9ae697a780>"
      ]
     },
     "execution_count": 24,
     "metadata": {},
     "output_type": "execute_result"
    },
    {
     "data": {
      "image/png": "[encoded data removed]",
      "text/plain": [
       "<matplotlib.figure.Figure at 0x7f9ae6987780>"
      ]
     },
     "metadata": {},
     "output_type": "display_data"
    }
   ],
   "source": [
    "# the majority of people who didn't seek help had no family history\n",
    "# now let's chet the age distribution\n",
    "sns.distplot(survey['Age'], kde=False, bins=20)"
   ]
  },
  {
   "cell_type": "code",
   "execution_count": 25,
   "metadata": {},
   "outputs": [
    {
     "data": {
      "text/plain": [
       "<matplotlib.axes._subplots.AxesSubplot at 0x7f9ae6a9cc50>"
      ]
     },
     "execution_count": 25,
     "metadata": {},
     "output_type": "execute_result"
    },
    {
     "data": {
      "image/png": "[encoded data removed]",
      "text/plain": [
       "<matplotlib.figure.Figure at 0x7f9ae697ab00>"
      ]
     },
     "metadata": {},
     "output_type": "display_data"
    }
   ],
   "source": [
    "sns.violinplot(x=\"treatment\", y=\"Age\", data=survey)\n",
    "#not much correlation between age and seeking treatment, the two ditributions look very similar"
   ]
  },
  {
   "cell_type": "code",
   "execution_count": 26,
   "metadata": {
    "collapsed": true
   },
   "outputs": [],
   "source": [
    "# now let's analyse the work enviroment"
   ]
  },
  {
   "cell_type": "code",
   "execution_count": 27,
   "metadata": {},
   "outputs": [
    {
     "data": {
      "text/plain": [
       "<matplotlib.axes._subplots.AxesSubplot at 0x7f9ae678fa90>"
      ]
     },
     "execution_count": 27,
     "metadata": {},
     "output_type": "execute_result"
    },
    {
     "data": {
      "image/png": "[encoded data removed]",
      "text/plain": [
       "<matplotlib.figure.Figure at 0x7f9ae67eaf28>"
      ]
     },
     "metadata": {},
     "output_type": "display_data"
    }
   ],
   "source": [
    "# benefits: Does your employer provide mental health benefits?\n",
    "sns.countplot(x='benefits',hue='treatment', data=survey)\n",
    "# not much to see"
   ]
  },
  {
   "cell_type": "code",
   "execution_count": 28,
   "metadata": {},
   "outputs": [
    {
     "data": {
      "text/plain": [
       "<matplotlib.axes._subplots.AxesSubplot at 0x7f9ae68fee80>"
      ]
     },
     "execution_count": 28,
     "metadata": {},
     "output_type": "execute_result"
    },
    {
     "data": {
      "image/png": "[encoded data removed]",
      "text/plain": [
       "<matplotlib.figure.Figure at 0x7f9ae67a4240>"
      ]
     },
     "metadata": {},
     "output_type": "display_data"
    }
   ],
   "source": [
    "# care_options: Do you know the options for mental health care your employer provides?\n",
    "sns.countplot(x='care_options',hue='treatment', data=survey)\n",
    "# not much to see"
   ]
  },
  {
   "cell_type": "code",
   "execution_count": 29,
   "metadata": {},
   "outputs": [
    {
     "data": {
      "text/plain": [
       "<matplotlib.axes._subplots.AxesSubplot at 0x7f9ae6a20470>"
      ]
     },
     "execution_count": 29,
     "metadata": {},
     "output_type": "execute_result"
    },
    {
     "data": {
      "image/png": "[encoded data removed]",
      "text/plain": [
       "<matplotlib.figure.Figure at 0x7f9ae69dd9e8>"
      ]
     },
     "metadata": {},
     "output_type": "display_data"
    }
   ],
   "source": [
    "# wellness_program: Has your employer ever discussed mental health as part of an employee wellness program?\n",
    "sns.countplot(x='wellness_program',hue='treatment', data=survey)\n",
    "# most employers didn't discuss mental health as part  of the wellness program"
   ]
  },
  {
   "cell_type": "code",
   "execution_count": 30,
   "metadata": {},
   "outputs": [
    {
     "data": {
      "text/plain": [
       "<matplotlib.axes._subplots.AxesSubplot at 0x7f9ae6601128>"
      ]
     },
     "execution_count": 30,
     "metadata": {},
     "output_type": "execute_result"
    },
    {
     "data": {
      "image/png": "[encoded data removed]",
      "text/plain": [
       "<matplotlib.figure.Figure at 0x7f9ae665ed68>"
      ]
     },
     "metadata": {},
     "output_type": "display_data"
    }
   ],
   "source": [
    "# seek_help: Does your employer provide resources to learn more about mental health issues and how to seek help?\n",
    "sns.countplot(x='seek_help',hue='treatment', data=survey)\n",
    "# same as before! although a slight increase in 'don't know'"
   ]
  },
  {
   "cell_type": "code",
   "execution_count": 31,
   "metadata": {},
   "outputs": [
    {
     "data": {
      "text/plain": [
       "<matplotlib.axes._subplots.AxesSubplot at 0x7f9ae6d55c50>"
      ]
     },
     "execution_count": 31,
     "metadata": {},
     "output_type": "execute_result"
    },
    {
     "data": {
      "image/png": "[encoded data removed]",
      "text/plain": [
       "<matplotlib.figure.Figure at 0x7f9ae69bb048>"
      ]
     },
     "metadata": {},
     "output_type": "display_data"
    }
   ],
   "source": [
    "# anonymity: Is your anonymity protected if you choose to take advantage of mental health or substance abuse treatment resources?\n",
    "sns.countplot(x='anonymity',hue='treatment', data=survey)\n",
    "# most people don't know the answer"
   ]
  },
  {
   "cell_type": "code",
   "execution_count": 32,
   "metadata": {},
   "outputs": [
    {
     "data": {
      "text/plain": [
       "<matplotlib.axes._subplots.AxesSubplot at 0x7f9ae6476320>"
      ]
     },
     "execution_count": 32,
     "metadata": {},
     "output_type": "execute_result"
    },
    {
     "data": {
      "image/png": "[encoded data removed]",
      "text/plain": [
       "<matplotlib.figure.Figure at 0x7f9ae655b748>"
      ]
     },
     "metadata": {},
     "output_type": "display_data"
    }
   ],
   "source": [
    "# leave: How easy is it for you to take medical leave for a mental health condition?\n",
    "sns.countplot(x='leave',hue='treatment', data=survey)\n",
    "# most people don't know how easy it would be to take a medical leave with a mental health condition"
   ]
  },
  {
   "cell_type": "code",
   "execution_count": 33,
   "metadata": {},
   "outputs": [
    {
     "data": {
      "text/plain": [
       "<matplotlib.axes._subplots.AxesSubplot at 0x7f9ae63b20b8>"
      ]
     },
     "execution_count": 33,
     "metadata": {},
     "output_type": "execute_result"
    },
    {
     "data": {
      "image/png": "[encoded data removed]",
      "text/plain": [
       "<matplotlib.figure.Figure at 0x7f9ae637dd30>"
      ]
     },
     "metadata": {},
     "output_type": "display_data"
    }
   ],
   "source": [
    "# mental_health_consequence: Do you think that discussing a mental health issue with your employer would have negative consequences?\n",
    "sns.countplot(x='mental_health_consequence',hue='treatment', data=survey)"
   ]
  },
  {
   "cell_type": "code",
   "execution_count": 34,
   "metadata": {},
   "outputs": [
    {
     "data": {
      "text/plain": [
       "<matplotlib.axes._subplots.AxesSubplot at 0x7f9ae640d4e0>"
      ]
     },
     "execution_count": 34,
     "metadata": {},
     "output_type": "execute_result"
    },
    {
     "data": {
      "image/png": "[encoded data removed]",
      "text/plain": [
       "<matplotlib.figure.Figure at 0x7f9ae63a1128>"
      ]
     },
     "metadata": {},
     "output_type": "display_data"
    }
   ],
   "source": [
    "# phys_health_consequence: Do you think that discussing a physical health issue with your employer would have negative consequences?\n",
    "sns.countplot(x='phys_health_consequence',hue='treatment', data=survey)"
   ]
  },
  {
   "cell_type": "code",
   "execution_count": 35,
   "metadata": {},
   "outputs": [
    {
     "data": {
      "text/plain": [
       "<matplotlib.axes._subplots.AxesSubplot at 0x7f9ae634d320>"
      ]
     },
     "execution_count": 35,
     "metadata": {},
     "output_type": "execute_result"
    },
    {
     "data": {
      "image/png": "[encoded data removed]",
      "text/plain": [
       "<matplotlib.figure.Figure at 0x7f9ae62a7d30>"
      ]
     },
     "metadata": {},
     "output_type": "display_data"
    }
   ],
   "source": [
    "# coworkers: Would you be willing to discuss a mental health issue with your coworkers?\n",
    "sns.countplot(x='coworkers',hue='treatment', data=survey)"
   ]
  },
  {
   "cell_type": "code",
   "execution_count": 36,
   "metadata": {},
   "outputs": [
    {
     "data": {
      "text/plain": [
       "<matplotlib.axes._subplots.AxesSubplot at 0x7f9ae615d6a0>"
      ]
     },
     "execution_count": 36,
     "metadata": {},
     "output_type": "execute_result"
    },
    {
     "data": {
      "image/png": "[encoded data removed]",
      "text/plain": [
       "<matplotlib.figure.Figure at 0x7f9ae634dd30>"
      ]
     },
     "metadata": {},
     "output_type": "display_data"
    }
   ],
   "source": [
    "# supervisor: Would you be willing to discuss a mental health issue with your direct supervisor(s)?\n",
    "sns.countplot(x='supervisor',hue='treatment', data=survey)"
   ]
  },
  {
   "cell_type": "code",
   "execution_count": 37,
   "metadata": {},
   "outputs": [
    {
     "data": {
      "text/plain": [
       "<matplotlib.axes._subplots.AxesSubplot at 0x7f9ae60e3a58>"
      ]
     },
     "execution_count": 37,
     "metadata": {},
     "output_type": "execute_result"
    },
    {
     "data": {
      "image/png": "[encoded data removed]",
      "text/plain": [
       "<matplotlib.figure.Figure at 0x7f9ae60faeb8>"
      ]
     },
     "metadata": {},
     "output_type": "display_data"
    }
   ],
   "source": [
    "# mental_health_interview: Would you bring up a mental health issue with a potential employer in an interview?\n",
    "sns.countplot(x='mental_health_interview',hue='treatment', data=survey)\n",
    "# unsurprisingly"
   ]
  },
  {
   "cell_type": "code",
   "execution_count": 38,
   "metadata": {},
   "outputs": [
    {
     "data": {
      "text/plain": [
       "<matplotlib.axes._subplots.AxesSubplot at 0x7f9ae61035c0>"
      ]
     },
     "execution_count": 38,
     "metadata": {},
     "output_type": "execute_result"
    },
    {
     "data": {
      "image/png": "[encoded data removed]",
      "text/plain": [
       "<matplotlib.figure.Figure at 0x7f9ae60327b8>"
      ]
     },
     "metadata": {},
     "output_type": "display_data"
    }
   ],
   "source": [
    "# phys_health_interview: Would you bring up a physical health issue with a potential employer in an interview?\n",
    "sns.countplot(x='phys_health_interview',hue='treatment', data=survey)"
   ]
  },
  {
   "cell_type": "code",
   "execution_count": 39,
   "metadata": {},
   "outputs": [
    {
     "data": {
      "text/plain": [
       "<matplotlib.axes._subplots.AxesSubplot at 0x7f9ae60322b0>"
      ]
     },
     "execution_count": 39,
     "metadata": {},
     "output_type": "execute_result"
    },
    {
     "data": {
      "image/png": "[encoded data removed]",
      "text/plain": [
       "<matplotlib.figure.Figure at 0x7f9ae646b4e0>"
      ]
     },
     "metadata": {},
     "output_type": "display_data"
    }
   ],
   "source": [
    "# mental_vs_physical: Do you feel that your employer takes mental health as seriously as physical health?\n",
    "sns.countplot(x='mental_vs_physical',hue='treatment', data=survey)"
   ]
  },
  {
   "cell_type": "code",
   "execution_count": 40,
   "metadata": {},
   "outputs": [
    {
     "data": {
      "text/plain": [
       "<matplotlib.axes._subplots.AxesSubplot at 0x7f9ae658ad30>"
      ]
     },
     "execution_count": 40,
     "metadata": {},
     "output_type": "execute_result"
    },
    {
     "data": {
      "image/png": "[encoded data removed]",
      "text/plain": [
       "<matplotlib.figure.Figure at 0x7f9ae637dbe0>"
      ]
     },
     "metadata": {},
     "output_type": "display_data"
    }
   ],
   "source": [
    "# obs_consequence: Have you heard of or observed negative consequences for coworkers with mental health conditions in your workplace?\n",
    "sns.countplot(x='obs_consequence',hue='treatment', data=survey)"
   ]
  },
  {
   "cell_type": "code",
   "execution_count": 41,
   "metadata": {
    "collapsed": true
   },
   "outputs": [],
   "source": [
    "# now lets check the percentage of people who seek treatment per country\n",
    "by_country = pd.DataFrame(columns=['country', 'percentage'])"
   ]
  },
  {
   "cell_type": "code",
   "execution_count": 42,
   "metadata": {
    "collapsed": true
   },
   "outputs": [],
   "source": [
    "by_country['country'] = survey['Country'].unique()"
   ]
  },
  {
   "cell_type": "code",
   "execution_count": 43,
   "metadata": {
    "collapsed": true
   },
   "outputs": [],
   "source": [
    "def get_percentage (country):\n",
    "    total = survey[survey['Country'] == country]['treatment'].count()\n",
    "    treated = survey[(survey['Country'] == country) & (survey['treatment'] == 'Yes')]['treatment'].count()\n",
    "    return (treated/total)*100\n",
    "\n",
    "by_country['percentage'] = by_country['country'].apply(get_percentage)"
   ]
  },
  {
   "cell_type": "code",
   "execution_count": 44,
   "metadata": {},
   "outputs": [
    {
     "data": {
      "text/plain": [
       "31.37319691547437"
      ]
     },
     "execution_count": 44,
     "metadata": {},
     "output_type": "execute_result"
    }
   ],
   "source": [
    "by_country['percentage'].mean()"
   ]
  },
  {
   "cell_type": "code",
   "execution_count": 45,
   "metadata": {},
   "outputs": [
    {
     "data": {
      "application/vnd.plotly.v1+json": {
       "data": [
        {
         "colorbar": {
          "title": "Percentage (%)"
         },
         "colorscale": "Viridis",
         "locationmode": "country names",
         "locations": [
          "United States",
          "France",
          "United Kingdom",
          "Canada",
          "Portugal",
          "Netherlands",
          "Switzerland",
          "Poland",
          "Australia",
          "Germany",
          "Russia",
          "Mexico",
          "Brazil",
          "Slovenia",
          "Costa Rica",
          "Austria",
          "Ireland",
          "India",
          "South Africa",
          "Italy",
          "Bulgaria",
          "Sweden",
          "Colombia",
          "Latvia",
          "Romania",
          "Belgium",
          "New Zealand",
          "Zimbabwe",
          "Spain",
          "Finland",
          "Uruguay",
          "Israel",
          "Bosnia and Herzegovina",
          "Hungary",
          "Singapore",
          "Japan",
          "Nigeria",
          "Croatia",
          "Norway",
          "Thailand",
          "Denmark",
          "Greece",
          "Moldova",
          "Georgia",
          "China",
          "Czech Republic",
          "Philippines"
         ],
         "reversescale": true,
         "text": [
          "United States",
          "France",
          "United Kingdom",
          "Canada",
          "Portugal",
          "Netherlands",
          "Switzerland",
          "Poland",
          "Australia",
          "Germany",
          "Russia",
          "Mexico",
          "Brazil",
          "Slovenia",
          "Costa Rica",
          "Austria",
          "Ireland",
          "India",
          "South Africa",
          "Italy",
          "Bulgaria",
          "Sweden",
          "Colombia",
          "Latvia",
          "Romania",
          "Belgium",
          "New Zealand",
          "Zimbabwe",
          "Spain",
          "Finland",
          "Uruguay",
          "Israel",
          "Bosnia and Herzegovina",
          "Hungary",
          "Singapore",
          "Japan",
          "Nigeria",
          "Croatia",
          "Norway",
          "Thailand",
          "Denmark",
          "Greece",
          "Moldova",
          "Georgia",
          "China",
          "Czech Republic",
          "Philippines"
         ],
         "type": "choropleth",
         "z": [
          54.607046070460704,
          15.384615384615385,
          49.72677595628415,
          54.41176470588235,
          0,
          33.33333333333333,
          42.857142857142854,
          57.14285714285714,
          61.904761904761905,
          46.666666666666664,
          0,
          33.33333333333333,
          33.33333333333333,
          100,
          0,
          0,
          48.148148148148145,
          30,
          66.66666666666666,
          14.285714285714285,
          66.66666666666666,
          28.57142857142857,
          0,
          0,
          0,
          16.666666666666664,
          62.5,
          100,
          0,
          33.33333333333333,
          0,
          0,
          0,
          0,
          25,
          100,
          0,
          100,
          0,
          0,
          100,
          0,
          100,
          0,
          0,
          0,
          0
         ]
        }
       ],
       "layout": {
        "geo": {
         "projection": {
          "type": "Mercator"
         },
         "showframe": false
        },
        "title": "Percentage of Emploees who seek treatment"
       }
      },
      "text/html": [
       "<div id=\"7dbb2c5a-300c-4bf1-be05-2852a11c7d91\" style=\"height: 525px; width: 100%;\" class=\"plotly-graph-div\"></div><script type=\"text/javascript\">require([\"plotly\"], function(Plotly) { window.PLOTLYENV=window.PLOTLYENV || {};window.PLOTLYENV.BASE_URL=\"https://plot.ly\";Plotly.newPlot(\"7dbb2c5a-300c-4bf1-be05-2852a11c7d91\", [{\"type\": \"choropleth\", \"colorscale\": \"Viridis\", \"reversescale\": true, \"locations\": [\"United States\", \"France\", \"United Kingdom\", \"Canada\", \"Portugal\", \"Netherlands\", \"Switzerland\", \"Poland\", \"Australia\", \"Germany\", \"Russia\", \"Mexico\", \"Brazil\", \"Slovenia\", \"Costa Rica\", \"Austria\", \"Ireland\", \"India\", \"South Africa\", \"Italy\", \"Bulgaria\", \"Sweden\", \"Colombia\", \"Latvia\", \"Romania\", \"Belgium\", \"New Zealand\", \"Zimbabwe\", \"Spain\", \"Finland\", \"Uruguay\", \"Israel\", \"Bosnia and Herzegovina\", \"Hungary\", \"Singapore\", \"Japan\", \"Nigeria\", \"Croatia\", \"Norway\", \"Thailand\", \"Denmark\", \"Greece\", \"Moldova\", \"Georgia\", \"China\", \"Czech Republic\", \"Philippines\"], \"locationmode\": \"country names\", \"z\": [54.607046070460704, 15.384615384615385, 49.72677595628415, 54.41176470588235, 0.0, 33.33333333333333, 42.857142857142854, 57.14285714285714, 61.904761904761905, 46.666666666666664, 0.0, 33.33333333333333, 33.33333333333333, 100.0, 0.0, 0.0, 48.148148148148145, 30.0, 66.66666666666666, 14.285714285714285, 66.66666666666666, 28.57142857142857, 0.0, 0.0, 0.0, 16.666666666666664, 62.5, 100.0, 0.0, 33.33333333333333, 0.0, 0.0, 0.0, 0.0, 25.0, 100.0, 0.0, 100.0, 0.0, 0.0, 100.0, 0.0, 100.0, 0.0, 0.0, 0.0, 0.0], \"text\": [\"United States\", \"France\", \"United Kingdom\", \"Canada\", \"Portugal\", \"Netherlands\", \"Switzerland\", \"Poland\", \"Australia\", \"Germany\", \"Russia\", \"Mexico\", \"Brazil\", \"Slovenia\", \"Costa Rica\", \"Austria\", \"Ireland\", \"India\", \"South Africa\", \"Italy\", \"Bulgaria\", \"Sweden\", \"Colombia\", \"Latvia\", \"Romania\", \"Belgium\", \"New Zealand\", \"Zimbabwe\", \"Spain\", \"Finland\", \"Uruguay\", \"Israel\", \"Bosnia and Herzegovina\", \"Hungary\", \"Singapore\", \"Japan\", \"Nigeria\", \"Croatia\", \"Norway\", \"Thailand\", \"Denmark\", \"Greece\", \"Moldova\", \"Georgia\", \"China\", \"Czech Republic\", \"Philippines\"], \"colorbar\": {\"title\": \"Percentage (%)\"}}], {\"title\": \"Percentage of Emploees who seek treatment\", \"geo\": {\"showframe\": false, \"projection\": {\"type\": \"Mercator\"}}}, {\"showLink\": true, \"linkText\": \"Export to plot.ly\"})});</script>"
      ],
      "text/vnd.plotly.v1+html": [
       "<div id=\"7dbb2c5a-300c-4bf1-be05-2852a11c7d91\" style=\"height: 525px; width: 100%;\" class=\"plotly-graph-div\"></div><script type=\"text/javascript\">require([\"plotly\"], function(Plotly) { window.PLOTLYENV=window.PLOTLYENV || {};window.PLOTLYENV.BASE_URL=\"https://plot.ly\";Plotly.newPlot(\"7dbb2c5a-300c-4bf1-be05-2852a11c7d91\", [{\"type\": \"choropleth\", \"colorscale\": \"Viridis\", \"reversescale\": true, \"locations\": [\"United States\", \"France\", \"United Kingdom\", \"Canada\", \"Portugal\", \"Netherlands\", \"Switzerland\", \"Poland\", \"Australia\", \"Germany\", \"Russia\", \"Mexico\", \"Brazil\", \"Slovenia\", \"Costa Rica\", \"Austria\", \"Ireland\", \"India\", \"South Africa\", \"Italy\", \"Bulgaria\", \"Sweden\", \"Colombia\", \"Latvia\", \"Romania\", \"Belgium\", \"New Zealand\", \"Zimbabwe\", \"Spain\", \"Finland\", \"Uruguay\", \"Israel\", \"Bosnia and Herzegovina\", \"Hungary\", \"Singapore\", \"Japan\", \"Nigeria\", \"Croatia\", \"Norway\", \"Thailand\", \"Denmark\", \"Greece\", \"Moldova\", \"Georgia\", \"China\", \"Czech Republic\", \"Philippines\"], \"locationmode\": \"country names\", \"z\": [54.607046070460704, 15.384615384615385, 49.72677595628415, 54.41176470588235, 0.0, 33.33333333333333, 42.857142857142854, 57.14285714285714, 61.904761904761905, 46.666666666666664, 0.0, 33.33333333333333, 33.33333333333333, 100.0, 0.0, 0.0, 48.148148148148145, 30.0, 66.66666666666666, 14.285714285714285, 66.66666666666666, 28.57142857142857, 0.0, 0.0, 0.0, 16.666666666666664, 62.5, 100.0, 0.0, 33.33333333333333, 0.0, 0.0, 0.0, 0.0, 25.0, 100.0, 0.0, 100.0, 0.0, 0.0, 100.0, 0.0, 100.0, 0.0, 0.0, 0.0, 0.0], \"text\": [\"United States\", \"France\", \"United Kingdom\", \"Canada\", \"Portugal\", \"Netherlands\", \"Switzerland\", \"Poland\", \"Australia\", \"Germany\", \"Russia\", \"Mexico\", \"Brazil\", \"Slovenia\", \"Costa Rica\", \"Austria\", \"Ireland\", \"India\", \"South Africa\", \"Italy\", \"Bulgaria\", \"Sweden\", \"Colombia\", \"Latvia\", \"Romania\", \"Belgium\", \"New Zealand\", \"Zimbabwe\", \"Spain\", \"Finland\", \"Uruguay\", \"Israel\", \"Bosnia and Herzegovina\", \"Hungary\", \"Singapore\", \"Japan\", \"Nigeria\", \"Croatia\", \"Norway\", \"Thailand\", \"Denmark\", \"Greece\", \"Moldova\", \"Georgia\", \"China\", \"Czech Republic\", \"Philippines\"], \"colorbar\": {\"title\": \"Percentage (%)\"}}], {\"title\": \"Percentage of Emploees who seek treatment\", \"geo\": {\"showframe\": false, \"projection\": {\"type\": \"Mercator\"}}}, {\"showLink\": true, \"linkText\": \"Export to plot.ly\"})});</script>"
      ]
     },
     "metadata": {},
     "output_type": "display_data"
    }
   ],
   "source": [
    "data = dict(\n",
    "        type = 'choropleth',\n",
    "        colorscale = 'Viridis',\n",
    "        reversescale = True,\n",
    "        locations = by_country['country'],\n",
    "        locationmode = \"country names\",\n",
    "        z = by_country['percentage'],\n",
    "        text = by_country['country'],\n",
    "        colorbar = {'title' : 'Percentage (%)'},\n",
    "      ) \n",
    "\n",
    "layout = dict(title = 'Percentage of Emploees who seek treatment',\n",
    "                geo = dict(showframe = False,projection = {'type':'Mercator'})\n",
    "             )\n",
    "\n",
    "choromap = go.Figure(data = [data],layout = layout)\n",
    "iplot(choromap,validate=False)"
   ]
  },
  {
   "cell_type": "code",
   "execution_count": null,
   "metadata": {
    "collapsed": true
   },
   "outputs": [],
   "source": []
  },
  {
   "cell_type": "code",
   "execution_count": null,
   "metadata": {
    "collapsed": true
   },
   "outputs": [],
   "source": []
  },
  {
   "cell_type": "code",
   "execution_count": null,
   "metadata": {
    "collapsed": true
   },
   "outputs": [],
   "source": []
  },
  {
   "cell_type": "code",
   "execution_count": null,
   "metadata": {
    "collapsed": true
   },
   "outputs": [],
   "source": []
  }
 ],
 "metadata": {
  "kernelspec": {
   "display_name": "Python 3",
   "language": "python",
   "name": "python3"
  },
  "language_info": {
   "codemirror_mode": {
    "name": "ipython",
    "version": 3
   },
   "file_extension": ".py",
   "mimetype": "text/x-python",
   "name": "python",
   "nbconvert_exporter": "python",
   "pygments_lexer": "ipython3",
   "version": "3.6.1"
  }
 },
 "nbformat": 4,
 "nbformat_minor": 2
}
